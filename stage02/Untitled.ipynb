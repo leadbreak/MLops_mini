{
 "cells": [
  {
   "cell_type": "code",
   "execution_count": 11,
   "id": "4a8d9353",
   "metadata": {},
   "outputs": [
    {
     "data": {
      "text/html": [
       "<div>\n",
       "<style scoped>\n",
       "    .dataframe tbody tr th:only-of-type {\n",
       "        vertical-align: middle;\n",
       "    }\n",
       "\n",
       "    .dataframe tbody tr th {\n",
       "        vertical-align: top;\n",
       "    }\n",
       "\n",
       "    .dataframe thead th {\n",
       "        text-align: right;\n",
       "    }\n",
       "</style>\n",
       "<table border=\"1\" class=\"dataframe\">\n",
       "  <thead>\n",
       "    <tr style=\"text-align: right;\">\n",
       "      <th></th>\n",
       "      <th>model_name</th>\n",
       "      <th>date</th>\n",
       "      <th>accuracy</th>\n",
       "      <th>precision</th>\n",
       "      <th>recall</th>\n",
       "      <th>f1-score</th>\n",
       "    </tr>\n",
       "  </thead>\n",
       "  <tbody>\n",
       "    <tr>\n",
       "      <th>0</th>\n",
       "      <td>C:\\Users\\in2wise\\Documents\\in2wise\\st_lwaid\\mo...</td>\n",
       "      <td>2021/12/16 16:21:46</td>\n",
       "      <td>1</td>\n",
       "      <td>1</td>\n",
       "      <td>1</td>\n",
       "      <td>1</td>\n",
       "    </tr>\n",
       "  </tbody>\n",
       "</table>\n",
       "</div>"
      ],
      "text/plain": [
       "                                          model_name                 date  \\\n",
       "0  C:\\Users\\in2wise\\Documents\\in2wise\\st_lwaid\\mo...  2021/12/16 16:21:46   \n",
       "\n",
       "   accuracy  precision  recall  f1-score  \n",
       "0         1          1       1         1  "
      ]
     },
     "execution_count": 11,
     "metadata": {},
     "output_type": "execute_result"
    }
   ],
   "source": [
    "import numpy as np\n",
    "import pandas as pd\n",
    "import altair as alt\n",
    "import streamlit as st\n",
    "import tensorflow as tf\n",
    "import os\n",
    "from datetime import datetime\n",
    "\n",
    "\n",
    "accuracy = 1\n",
    "precision = 1\n",
    "recall = 1\n",
    "f1_score = 1 \n",
    "pred_log_path = os.path.join(os.path.expanduser('~'), \"Documents\\in2wise\\st_lwaid\\pred_log\", \"pred_log.csv\")\n",
    "model_path = (os.path.join(os.path.expanduser('~'), \"Documents\\in2wise\\st_lwaid\\models\", \"default.tflite\"))\n",
    "\n",
    "log_df = pd.DataFrame({\n",
    "    'model_name':model_path,\n",
    "    'date': datetime.today().strftime(\"%Y/%m/%d %H:%M:%S\"),\n",
    "    'accuracy':accuracy,\n",
    "    'precision':precision,\n",
    "    'recall':recall,\n",
    "    'f1-score':f1_score\n",
    "                    },\n",
    "    index=[0])\n",
    "\n",
    "log_df"
   ]
  },
  {
   "cell_type": "code",
   "execution_count": 16,
   "id": "fb495797",
   "metadata": {},
   "outputs": [],
   "source": [
    "if os.path.exists(pred_log_path) :\n",
    "\n",
    "    log_df.to_csv(pred_log_path, index=False, mode='a', header=False)\n",
    "else :\n",
    "\n",
    "    log_df.to_csv(pred_log_path, index=False, mode='w')"
   ]
  },
  {
   "cell_type": "code",
   "execution_count": 17,
   "id": "2d71d818",
   "metadata": {},
   "outputs": [
    {
     "data": {
      "text/html": [
       "<div>\n",
       "<style scoped>\n",
       "    .dataframe tbody tr th:only-of-type {\n",
       "        vertical-align: middle;\n",
       "    }\n",
       "\n",
       "    .dataframe tbody tr th {\n",
       "        vertical-align: top;\n",
       "    }\n",
       "\n",
       "    .dataframe thead th {\n",
       "        text-align: right;\n",
       "    }\n",
       "</style>\n",
       "<table border=\"1\" class=\"dataframe\">\n",
       "  <thead>\n",
       "    <tr style=\"text-align: right;\">\n",
       "      <th></th>\n",
       "      <th>model_name</th>\n",
       "      <th>date</th>\n",
       "      <th>accuracy</th>\n",
       "      <th>precision</th>\n",
       "      <th>recall</th>\n",
       "      <th>f1-score</th>\n",
       "    </tr>\n",
       "  </thead>\n",
       "  <tbody>\n",
       "    <tr>\n",
       "      <th>0</th>\n",
       "      <td>C:\\Users\\in2wise\\Documents\\in2wise\\st_lwaid\\mo...</td>\n",
       "      <td>2021/12/16 16:21:46</td>\n",
       "      <td>1</td>\n",
       "      <td>1</td>\n",
       "      <td>1</td>\n",
       "      <td>1</td>\n",
       "    </tr>\n",
       "    <tr>\n",
       "      <th>1</th>\n",
       "      <td>C:\\Users\\in2wise\\Documents\\in2wise\\st_lwaid\\mo...</td>\n",
       "      <td>2021/12/16 16:21:46</td>\n",
       "      <td>1</td>\n",
       "      <td>1</td>\n",
       "      <td>1</td>\n",
       "      <td>1</td>\n",
       "    </tr>\n",
       "    <tr>\n",
       "      <th>2</th>\n",
       "      <td>C:\\Users\\in2wise\\Documents\\in2wise\\st_lwaid\\mo...</td>\n",
       "      <td>2021/12/16 16:21:46</td>\n",
       "      <td>1</td>\n",
       "      <td>1</td>\n",
       "      <td>1</td>\n",
       "      <td>1</td>\n",
       "    </tr>\n",
       "  </tbody>\n",
       "</table>\n",
       "</div>"
      ],
      "text/plain": [
       "                                          model_name                 date  \\\n",
       "0  C:\\Users\\in2wise\\Documents\\in2wise\\st_lwaid\\mo...  2021/12/16 16:21:46   \n",
       "1  C:\\Users\\in2wise\\Documents\\in2wise\\st_lwaid\\mo...  2021/12/16 16:21:46   \n",
       "2  C:\\Users\\in2wise\\Documents\\in2wise\\st_lwaid\\mo...  2021/12/16 16:21:46   \n",
       "\n",
       "   accuracy  precision  recall  f1-score  \n",
       "0         1          1       1         1  \n",
       "1         1          1       1         1  \n",
       "2         1          1       1         1  "
      ]
     },
     "execution_count": 17,
     "metadata": {},
     "output_type": "execute_result"
    }
   ],
   "source": [
    "pd.read_csv(pred_log_path)"
   ]
  },
  {
   "cell_type": "code",
   "execution_count": 1,
   "id": "392b7413",
   "metadata": {},
   "outputs": [
    {
     "ename": "ModuleNotFoundError",
     "evalue": "No module named 'plotly'",
     "output_type": "error",
     "traceback": [
      "\u001b[1;31m---------------------------------------------------------------------------\u001b[0m",
      "\u001b[1;31mModuleNotFoundError\u001b[0m                       Traceback (most recent call last)",
      "\u001b[1;32m<ipython-input-1-e762924a5845>\u001b[0m in \u001b[0;36m<module>\u001b[1;34m\u001b[0m\n\u001b[1;32m----> 1\u001b[1;33m \u001b[1;32mimport\u001b[0m \u001b[0mplotly\u001b[0m\u001b[1;33m.\u001b[0m\u001b[0mexpress\u001b[0m \u001b[1;32mas\u001b[0m \u001b[0mpx\u001b[0m\u001b[1;33m\u001b[0m\u001b[1;33m\u001b[0m\u001b[0m\n\u001b[0m\u001b[0;32m      2\u001b[0m \u001b[0mdf\u001b[0m \u001b[1;33m=\u001b[0m \u001b[0mpx\u001b[0m\u001b[1;33m.\u001b[0m\u001b[0mdata\u001b[0m\u001b[1;33m.\u001b[0m\u001b[0mgapminder\u001b[0m\u001b[1;33m(\u001b[0m\u001b[1;33m)\u001b[0m\u001b[1;33m\u001b[0m\u001b[1;33m\u001b[0m\u001b[0m\n\u001b[0;32m      3\u001b[0m \u001b[0mdf\u001b[0m\u001b[1;33m\u001b[0m\u001b[1;33m\u001b[0m\u001b[0m\n",
      "\u001b[1;31mModuleNotFoundError\u001b[0m: No module named 'plotly'"
     ]
    }
   ],
   "source": [
    "import plotly.express as px\n",
    "df = px.data.gapminder()\n",
    "df"
   ]
  },
  {
   "cell_type": "code",
   "execution_count": 2,
   "id": "01ef2d9e-146b-4501-9c02-1936aa14a69c",
   "metadata": {},
   "outputs": [
    {
     "name": "stdout",
     "output_type": "stream",
     "text": [
      "Requirement already satisfied: plotly in c:\\python39\\lib\\site-packages (5.3.1)\n",
      "Requirement already satisfied: tenacity>=6.2.0 in c:\\python39\\lib\\site-packages (from plotly) (8.0.1)\n",
      "Requirement already satisfied: six in c:\\python39\\lib\\site-packages (from plotly) (1.16.0)\n"
     ]
    },
    {
     "name": "stderr",
     "output_type": "stream",
     "text": [
      "WARNING: Ignoring invalid distribution -yqt5-sip (c:\\python39\\lib\\site-packages)\n",
      "WARNING: Ignoring invalid distribution -yqt5-qt5 (c:\\python39\\lib\\site-packages)\n",
      "WARNING: Ignoring invalid distribution -yqt5-sip (c:\\python39\\lib\\site-packages)\n",
      "WARNING: Ignoring invalid distribution -yqt5-qt5 (c:\\python39\\lib\\site-packages)\n",
      "WARNING: Ignoring invalid distribution -yqt5-sip (c:\\python39\\lib\\site-packages)\n",
      "WARNING: Ignoring invalid distribution -yqt5-qt5 (c:\\python39\\lib\\site-packages)\n",
      "WARNING: Ignoring invalid distribution -yqt5-sip (c:\\python39\\lib\\site-packages)\n",
      "WARNING: Ignoring invalid distribution -yqt5-qt5 (c:\\python39\\lib\\site-packages)\n",
      "WARNING: Ignoring invalid distribution -yqt5-sip (c:\\python39\\lib\\site-packages)\n",
      "WARNING: Ignoring invalid distribution -yqt5-qt5 (c:\\python39\\lib\\site-packages)\n"
     ]
    }
   ],
   "source": [
    "!pip install plotly"
   ]
  }
 ],
 "metadata": {
  "kernelspec": {
   "display_name": "Python 3",
   "language": "python",
   "name": "python3"
  },
  "language_info": {
   "codemirror_mode": {
    "name": "ipython",
    "version": 3
   },
   "file_extension": ".py",
   "mimetype": "text/x-python",
   "name": "python",
   "nbconvert_exporter": "python",
   "pygments_lexer": "ipython3",
   "version": "3.8.8"
  }
 },
 "nbformat": 4,
 "nbformat_minor": 5
}
