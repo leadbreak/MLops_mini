{
 "cells": [
  {
   "cell_type": "code",
   "execution_count": 3,
   "id": "4a8d9353",
   "metadata": {},
   "outputs": [
    {
     "data": {
      "text/html": [
       "<div>\n",
       "<style scoped>\n",
       "    .dataframe tbody tr th:only-of-type {\n",
       "        vertical-align: middle;\n",
       "    }\n",
       "\n",
       "    .dataframe tbody tr th {\n",
       "        vertical-align: top;\n",
       "    }\n",
       "\n",
       "    .dataframe thead th {\n",
       "        text-align: right;\n",
       "    }\n",
       "</style>\n",
       "<table border=\"1\" class=\"dataframe\">\n",
       "  <thead>\n",
       "    <tr style=\"text-align: right;\">\n",
       "      <th></th>\n",
       "      <th>model_name</th>\n",
       "      <th>date</th>\n",
       "      <th>accuracy</th>\n",
       "      <th>precision</th>\n",
       "      <th>recall</th>\n",
       "      <th>f1-score</th>\n",
       "    </tr>\n",
       "  </thead>\n",
       "  <tbody>\n",
       "    <tr>\n",
       "      <th>date</th>\n",
       "      <td>C:\\Users\\in2wise\\Documents\\in2wise\\st_lwaid\\mo...</td>\n",
       "      <td>2021/12/16 16:20:01</td>\n",
       "      <td>1</td>\n",
       "      <td>1</td>\n",
       "      <td>1</td>\n",
       "      <td>1</td>\n",
       "    </tr>\n",
       "  </tbody>\n",
       "</table>\n",
       "</div>"
      ],
      "text/plain": [
       "                                             model_name                 date  \\\n",
       "date  C:\\Users\\in2wise\\Documents\\in2wise\\st_lwaid\\mo...  2021/12/16 16:20:01   \n",
       "\n",
       "      accuracy  precision  recall  f1-score  \n",
       "date         1          1       1         1  "
      ]
     },
     "execution_count": 3,
     "metadata": {},
     "output_type": "execute_result"
    }
   ],
   "source": [
    "import numpy as np\n",
    "import pandas as pd\n",
    "import altair as alt\n",
    "import streamlit as st\n",
    "import tensorflow as tf\n",
    "import os\n",
    "from datetime import datetime\n",
    "\n",
    "\n",
    "accuracy = 1\n",
    "precision = 1\n",
    "recall = 1\n",
    "f1_score = 1 \n",
    "pred_log_path = os.path.join(os.path.expanduser('~'), \"Documents\\in2wise\\st_lwaid\\pred_log\", \"pred_log.csv\")\n",
    "model_path = (os.path.join(os.path.expanduser('~'), \"Documents\\in2wise\\st_lwaid\\models\", \"default.tflite\"))\n",
    "\n",
    "log_df = pd.DataFrame({\n",
    "    'model_name':model_path,\n",
    "    'date': datetime.today().strftime(\"%Y/%m/%d %H:%M:%S\"),\n",
    "    'accuracy':accuracy,\n",
    "    'precision':precision,\n",
    "    'recall':recall,\n",
    "    'f1-score':f1_score\n",
    "                    },\n",
    "    index=[0])\n",
    "\n",
    "log_df"
   ]
  },
  {
   "cell_type": "code",
   "execution_count": null,
   "id": "1488b689",
   "metadata": {},
   "outputs": [],
   "source": [
    "if os.path.exists(pred_log_path) :\n",
    "\n",
    "    log_df.to_csv(pred_log_path, index=False, mode='a')\n",
    "else :\n",
    "\n",
    "    log_df.to_csv(pred_log_path, index=False, mode='w')"
   ]
  }
 ],
 "metadata": {
  "kernelspec": {
   "display_name": "Python 3 (ipykernel)",
   "language": "python",
   "name": "python3"
  },
  "language_info": {
   "codemirror_mode": {
    "name": "ipython",
    "version": 3
   },
   "file_extension": ".py",
   "mimetype": "text/x-python",
   "name": "python",
   "nbconvert_exporter": "python",
   "pygments_lexer": "ipython3",
   "version": "3.9.8"
  }
 },
 "nbformat": 4,
 "nbformat_minor": 5
}
